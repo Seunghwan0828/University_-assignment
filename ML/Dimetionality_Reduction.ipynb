{
  "nbformat": 4,
  "nbformat_minor": 0,
  "metadata": {
    "colab": {
      "name": "Dimetionality_Reduction.ipynb",
      "provenance": [],
      "collapsed_sections": []
    },
    "kernelspec": {
      "name": "python3",
      "display_name": "Python 3"
    },
    "language_info": {
      "name": "python"
    },
    "accelerator": "GPU"
  },
  "cells": [
    {
      "cell_type": "code",
      "metadata": {
        "id": "dGm_V3BKVURb"
      },
      "source": [
        "import numpy as np\n",
        "import sklearn"
      ],
      "execution_count": null,
      "outputs": []
    },
    {
      "cell_type": "code",
      "metadata": {
        "id": "QPDiyWP8VRSs"
      },
      "source": [
        "np.random.seed(4)\n",
        "m = 60\n",
        "w1, w2 = 0.1, 0.3\n",
        "noise = 0.1\n",
        "\n",
        "# 3D 데이터 생성\n",
        "angles = np.random.rand(m) * 3 * np.pi / 2 - 0.5\n",
        "X = np.empty((m, 3))\n",
        "X[:, 0] = np.cos(angles) + np.sin(angles)/2 + noise * np.random.randn(m) / 2\n",
        "X[:, 1] = np.sin(angles) * 0.7 + noise * np.random.randn(m) / 2\n",
        "X[:, 2] = X[:, 0] * w1 + X[:, 1] * w2 + noise * np.random.randn(m)"
      ],
      "execution_count": null,
      "outputs": []
    },
    {
      "cell_type": "code",
      "metadata": {
        "id": "N6E9XHxsDCAh"
      },
      "source": [
        "# SVD를 이용해 주성분 구하기\n",
        "X_centered = X - X.mean(axis=0)\n",
        "U, s, Vt = np.linalg.svd(X_centered)\n",
        "c1 = Vt.T[:, 0]\n",
        "c2 = Vt.T[:, 1]"
      ],
      "execution_count": null,
      "outputs": []
    },
    {
      "cell_type": "code",
      "metadata": {
        "id": "ZvV9rCTEVNbG"
      },
      "source": [
        "# 차원 투영\n",
        "W2 = Vt.T[:, :2]\n",
        "X2D = X_centered.dot(W2)"
      ],
      "execution_count": null,
      "outputs": []
    },
    {
      "cell_type": "code",
      "metadata": {
        "colab": {
          "base_uri": "https://localhost:8080/"
        },
        "id": "G7_HEmJtalpq",
        "outputId": "fd024548-13ee-421d-c755-dafad73d611f"
      },
      "source": [
        "# 복원\n",
        "X_recov_centered = X2D.dot(Vt.T[:,:2].T)\n",
        "X_recov = X_recov_centered + X.mean(axis=0)\n",
        "print(X_recov[:3])"
      ],
      "execution_count": null,
      "outputs": [
        {
          "output_type": "stream",
          "text": [
            "[[-1.01450604 -0.54656333 -0.27441525]\n",
            " [-0.02103231  0.55108376  0.18101894]\n",
            " [-0.95379477 -0.4668077  -0.24237013]]\n"
          ],
          "name": "stdout"
        }
      ]
    },
    {
      "cell_type": "code",
      "metadata": {
        "id": "LgysnuhUdqYo"
      },
      "source": [
        "from sklearn.decomposition import PCA\n",
        "\n",
        "pca = PCA(n_components=2)   # PCA모델을 사용해 데이터셋 차원을 2로 줄임\n",
        "X2D = pca.fit_transform(X)"
      ],
      "execution_count": null,
      "outputs": []
    },
    {
      "cell_type": "code",
      "metadata": {
        "colab": {
          "base_uri": "https://localhost:8080/"
        },
        "id": "RTx-oJjCdqP5",
        "outputId": "682ea615-70fb-4c87-e425-48a7fb2a58d7"
      },
      "source": [
        "pca.explained_variance_ratio_  # 변수에 저장된 주성분의 설명된 분산의 비율\n",
        "# 데이터셋 분산의 84.2%가 첫번째 PC를 따라 놓여있고 14.6%가 두번째 PC를 따라 놓여있다."
      ],
      "execution_count": null,
      "outputs": [
        {
          "output_type": "execute_result",
          "data": {
            "text/plain": [
              "array([0.84248607, 0.14631839])"
            ]
          },
          "metadata": {
            "tags": []
          },
          "execution_count": 7
        }
      ]
    },
    {
      "cell_type": "code",
      "metadata": {
        "colab": {
          "base_uri": "https://localhost:8080/"
        },
        "id": "LeF4REZrVcib",
        "outputId": "11c62323-7b40-4864-8c8e-d5cb24910fab"
      },
      "source": [
        "from sklearn.decomposition import PCA\n",
        "\n",
        "pca = PCA()   # 데이터를 2차원으로 줄임\n",
        "pca.fit(X)\n",
        "vr = pca.explained_variance_ratio_\n",
        "cumsum = np.cumsum(vr)\n",
        "d = np.argmax(cumsum >= 0.95) +1\n",
        "\n",
        "print(vr)   # 모든 분산 값\n",
        "print(np.sum(vr))   # 데이터셋 분산을 모두 더하면 100\n",
        "print(cumsum)   # 분산을 순차적으로 더한 값\n",
        "print(d)    # 차원의 수"
      ],
      "execution_count": null,
      "outputs": [
        {
          "output_type": "stream",
          "text": [
            "[0.84248607 0.14631839 0.01119554]\n",
            "0.9999999999999999\n",
            "[0.84248607 0.98880446 1.        ]\n",
            "2\n"
          ],
          "name": "stdout"
        }
      ]
    },
    {
      "cell_type": "code",
      "metadata": {
        "id": "n87bdneyjnmA"
      },
      "source": [
        "from sklearn.datasets import fetch_openml\n",
        "\n",
        "mnist = fetch_openml('mnist_784', version=1, as_frame=False)   # 사이킷런에서 mnist 데이터 불러오기\n",
        "mnist.target = mnist.target.astype(np.uint8)"
      ],
      "execution_count": null,
      "outputs": []
    },
    {
      "cell_type": "code",
      "metadata": {
        "id": "Ma0JY-etjoRn"
      },
      "source": [
        "from sklearn.model_selection import train_test_split\n",
        "\n",
        "X = mnist[\"data\"]\n",
        "y = mnist[\"target\"]\n",
        "\n",
        "X_train, X_test, y_train, y_test = train_test_split(X, y)   #  사이킷런으로 데이터 분리"
      ],
      "execution_count": null,
      "outputs": []
    },
    {
      "cell_type": "code",
      "metadata": {
        "id": "z49U8MkKVhN7"
      },
      "source": [
        "pca = PCA(n_components=0.95)    # n_components=0.95 :  95퍼의 분산의 비율을 보존\n",
        "X_reduced = pca.fit_transform(X_train)"
      ],
      "execution_count": null,
      "outputs": []
    },
    {
      "cell_type": "code",
      "metadata": {
        "id": "yv9ZwePNd8Ax"
      },
      "source": [
        "pca = PCA(n_components=154)     # mnist 의 데이터셋을 154차원으로 압축\n",
        "X_reduced = pca.fit_transform(X_train)\n",
        "X_recovered = pca.inverse_transform(X_reduced)  # 784차원으로 복구"
      ],
      "execution_count": null,
      "outputs": []
    },
    {
      "cell_type": "code",
      "metadata": {
        "id": "r_u_YP44jym9"
      },
      "source": [
        "rnd_pca = PCA(n_components=154, svd_solver=\"randomized\", random_state=42)   # 확률적 알고리즘응ㄹ 사용해 처음 d개의 주성분에 대한 근삿값 찾기\n",
        "X_reduced = rnd_pca.fit_transform(X_train)"
      ],
      "execution_count": null,
      "outputs": []
    },
    {
      "cell_type": "code",
      "metadata": {
        "id": "Q2fpY-Edj8b3"
      },
      "source": [
        "from sklearn.decomposition import IncrementalPCA    # 점진적 PCA\n",
        "\n",
        "n_batches = 100\n",
        "inc_pca = IncrementalPCA(n_components=154)      # 154차원으로 차원 축소\n",
        "for X_batch in np.array_split(X_train, n_batches):      # 100개의 미니배치로 나눔\n",
        "    inc_pca.partial_fit(X_batch)\n",
        "\n",
        "X_reduced = inc_pca.transform(X_train)"
      ],
      "execution_count": null,
      "outputs": []
    },
    {
      "cell_type": "code",
      "metadata": {
        "colab": {
          "base_uri": "https://localhost:8080/"
        },
        "id": "EkY0q17ikFAY",
        "outputId": "01f3eec9-43c5-481e-83e0-b6b696b6bede"
      },
      "source": [
        "filename = \"my_mnist.data\"      # mnist데이터 복사\n",
        "m, n = X_train.shape\n",
        "\n",
        "X_mm = np.memmap(filename, dtype=\"float32\", mode=\"readonly\", shape=(m, n))     # 넘파이의 memmap 파이썬 클래스를 사용해 하드 디스크의 이진 파일에 저장된 매우 큰 배열을 메모리에 들어 있는것처럼 다룸\n",
        "\n",
        "batch_size = m // n_batches\n",
        "inc_pca = IncrementalPCA(n_components=154, batch_size=batch_size)\n",
        "inc_pca.fit(X_mm)"
      ],
      "execution_count": null,
      "outputs": [
        {
          "output_type": "execute_result",
          "data": {
            "text/plain": [
              "IncrementalPCA(batch_size=525, copy=True, n_components=154, whiten=False)"
            ]
          },
          "metadata": {
            "tags": []
          },
          "execution_count": 24
        }
      ]
    },
    {
      "cell_type": "code",
      "metadata": {
        "id": "YjlhBLctawwW"
      },
      "source": [
        "from sklearn.datasets import make_swiss_roll    # 사이킷런에서 스위스롤 데이터 불러오기\n",
        "\n",
        "X, t = make_swiss_roll(n_samples=1000, noise=0.2, random_state=42)\n",
        "y = t > 6.9"
      ],
      "execution_count": null,
      "outputs": []
    },
    {
      "cell_type": "code",
      "metadata": {
        "id": "acO7G1gckNRQ"
      },
      "source": [
        "from sklearn.decomposition import KernelPCA\n",
        "\n",
        "rbf_pca = KernelPCA(n_components=2, kernel=\"rbf\", gamma=0.04)   # KernelPCA를 사용해 RBF 커널로 kPCA 적용\n",
        "X_reduced = rbf_pca.fit_transform(X)"
      ],
      "execution_count": null,
      "outputs": []
    },
    {
      "cell_type": "code",
      "metadata": {
        "id": "xc7z6DBzkXmf",
        "colab": {
          "base_uri": "https://localhost:8080/"
        },
        "outputId": "3427125a-b6aa-419c-f9e4-737bcbffcd8c"
      },
      "source": [
        "from sklearn.model_selection import GridSearchCV\n",
        "from sklearn.linear_model import LogisticRegression\n",
        "from sklearn.pipeline import Pipeline\n",
        "\n",
        "clf = Pipeline([\n",
        "        (\"kpca\", KernelPCA(n_components=2)),    # 2차원으로 축소\n",
        "        (\"log_reg\", LogisticRegression(solver=\"lbfgs\"))     #분류를 위해 로지스틱 회귀 적용\n",
        "    ])\n",
        "\n",
        "param_grid = [{\n",
        "        \"kpca__gamma\": np.linspace(0.03, 0.05, 10),\n",
        "        \"kpca__kernel\": [\"rbf\", \"sigmoid\"]\n",
        "    }]\n",
        "\n",
        "grid_search = GridSearchCV(clf, param_grid, cv=3)   # GridSearchCV를 사용해 kPCA의 가장 좋응ㄴ 커널과 gamma 파라미터 탐색\n",
        "grid_search.fit(X, y)"
      ],
      "execution_count": null,
      "outputs": [
        {
          "output_type": "execute_result",
          "data": {
            "text/plain": [
              "GridSearchCV(cv=3, error_score=nan,\n",
              "             estimator=Pipeline(memory=None,\n",
              "                                steps=[('kpca',\n",
              "                                        KernelPCA(alpha=1.0, coef0=1,\n",
              "                                                  copy_X=True, degree=3,\n",
              "                                                  eigen_solver='auto',\n",
              "                                                  fit_inverse_transform=False,\n",
              "                                                  gamma=None, kernel='linear',\n",
              "                                                  kernel_params=None,\n",
              "                                                  max_iter=None, n_components=2,\n",
              "                                                  n_jobs=None,\n",
              "                                                  random_state=None,\n",
              "                                                  remove_zero_eig=False,\n",
              "                                                  tol=0)),\n",
              "                                       ('log_reg',\n",
              "                                        LogisticRegression(C=1.0,\n",
              "                                                           cl...\n",
              "                                                           solver='lbfgs',\n",
              "                                                           tol=0.0001,\n",
              "                                                           verbose=0,\n",
              "                                                           warm_start=False))],\n",
              "                                verbose=False),\n",
              "             iid='deprecated', n_jobs=None,\n",
              "             param_grid=[{'kpca__gamma': array([0.03      , 0.03222222, 0.03444444, 0.03666667, 0.03888889,\n",
              "       0.04111111, 0.04333333, 0.04555556, 0.04777778, 0.05      ]),\n",
              "                          'kpca__kernel': ['rbf', 'sigmoid']}],\n",
              "             pre_dispatch='2*n_jobs', refit=True, return_train_score=False,\n",
              "             scoring=None, verbose=0)"
            ]
          },
          "metadata": {
            "tags": []
          },
          "execution_count": 19
        }
      ]
    },
    {
      "cell_type": "code",
      "metadata": {
        "id": "Q1VxVCZqkeA3",
        "colab": {
          "base_uri": "https://localhost:8080/"
        },
        "outputId": "15d90108-9bda-4de3-d921-cbfebc32fff0"
      },
      "source": [
        "print(grid_search.best_params_)     # 가장 좋은 커널과 하이퍼파라미터는 best_params_ 변수에 저장됨"
      ],
      "execution_count": null,
      "outputs": [
        {
          "output_type": "stream",
          "text": [
            "{'kpca__gamma': 0.043333333333333335, 'kpca__kernel': 'rbf'}\n"
          ],
          "name": "stdout"
        }
      ]
    },
    {
      "cell_type": "code",
      "metadata": {
        "id": "NY1O9N09pAtX"
      },
      "source": [
        "rbf_pca = KernelPCA(n_components=2, kernel=\"rbf\", gamma=0.0433,     # 가장 좋은 커널과 하이퍼파라미터 적용\n",
        "                    fit_inverse_transform=True)\n",
        "X_reduced = rbf_pca.fit_transform(X)\n",
        "X_preimage = rbf_pca.inverse_transform(X_reduced)       # fit_inverse_transform=True : 재구성 원상 구하기"
      ],
      "execution_count": null,
      "outputs": []
    },
    {
      "cell_type": "code",
      "metadata": {
        "id": "7WqOR8n7pE82",
        "colab": {
          "base_uri": "https://localhost:8080/"
        },
        "outputId": "1636a06e-3335-42a0-9d5c-b57ba75d89ab"
      },
      "source": [
        "from sklearn.metrics import mean_squared_error\n",
        "\n",
        "mean_squared_error(X, X_preimage)   # 재구성 원상 오차 계산"
      ],
      "execution_count": null,
      "outputs": [
        {
          "output_type": "execute_result",
          "data": {
            "text/plain": [
              "32.786308795766125"
            ]
          },
          "metadata": {
            "tags": []
          },
          "execution_count": 22
        }
      ]
    },
    {
      "cell_type": "code",
      "metadata": {
        "id": "I6U9kv5vpH8l"
      },
      "source": [
        "from sklearn.manifold import LocallyLinearEmbedding     # 지역 선형 임베딩\n",
        "\n",
        "lle = LocallyLinearEmbedding(n_components=2, n_neighbors=10, random_state=42)   # 각 훈련 샘플이 가장 가까운 이웃에 얼마나 선형적으로 연관되어 있는지 측정\n",
        "X_reduced = lle.fit_transform(X)"
      ],
      "execution_count": null,
      "outputs": []
    }
  ]
}